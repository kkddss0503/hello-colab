{
  "nbformat": 4,
  "nbformat_minor": 0,
  "metadata": {
    "colab": {
      "provenance": [],
      "authorship_tag": "ABX9TyMnON0o+2PGL38UfkdSCMQs",
      "include_colab_link": true
    },
    "kernelspec": {
      "name": "python3",
      "display_name": "Python 3"
    },
    "language_info": {
      "name": "python"
    }
  },
  "cells": [
    {
      "cell_type": "markdown",
      "metadata": {
        "id": "view-in-github",
        "colab_type": "text"
      },
      "source": [
        "<a href=\"https://colab.research.google.com/github/kkddss0503/hello-colab/blob/main/Hello_Colab.ipynb\" target=\"_parent\"><img src=\"https://colab.research.google.com/assets/colab-badge.svg\" alt=\"Open In Colab\"/></a>"
      ]
    },
    {
      "cell_type": "markdown",
      "source": [
        "# Task #07 作業#01 【實作題】口罩資料 API 串接"
      ],
      "metadata": {
        "id": "e7mdpjR1yUj0"
      }
    },
    {
      "cell_type": "markdown",
      "source": [
        "請建立一個 Github Repo 與 Colab 綁定（名稱自訂），並且根據以下範例完成第一步驟的資料收集後 Commit 第一個版本："
      ],
      "metadata": {
        "id": "U4b6-Y1NykDN"
      }
    },
    {
      "cell_type": "code",
      "execution_count": 1,
      "metadata": {
        "id": "vpmpJNfOvUdj",
        "colab": {
          "base_uri": "https://localhost:8080/"
        },
        "outputId": "494ddfa2-25ae-4d00-9872-959cb9a03c39"
      },
      "outputs": [
        {
          "output_type": "stream",
          "name": "stdout",
          "text": [
            "臺北市\n"
          ]
        }
      ],
      "source": [
        "import requests\n",
        "import json\n",
        "# 利用 requests 對 API 來源發送一個請求\n",
        "url = 'https://raw.githubusercontent.com/kiang/pharmacies/master/json/points.json'\n",
        "res = requests.get(url)\n",
        "# 將請求回應的內容存成一個字串格式\n",
        "d = res.text\n",
        "# 將長得像 json 格式的字串解析成字典或列表\n",
        "data = json.loads(d)\n",
        "print(data['features'][1]['properties']['county'])"
      ]
    },
    {
      "cell_type": "markdown",
      "source": [
        "接下來，請你將取回來的資料利用 Python 語法計算各地區的藥局數量，完成後 Commit 成第二個版本："
      ],
      "metadata": {
        "id": "OCvgoKExyvKK"
      }
    },
    {
      "cell_type": "code",
      "source": [
        "med_count = {}\n",
        "\n",
        "# 填入欄位名稱\n",
        "for d in data['features']:\n",
        "    county = d['properties']['address'][:3]\n",
        "    if county not in med_count:\n",
        "         med_count[county] = 0\n",
        "    med_count[county] += 1\n",
        "\n",
        "print(med_count)\n",
        "# {'台北市': 123, '新北市': 456 ...}"
      ],
      "metadata": {
        "colab": {
          "base_uri": "https://localhost:8080/"
        },
        "id": "H10z5gjt57th",
        "outputId": "71272346-91f5-4858-87f2-8656de820387"
      },
      "execution_count": 2,
      "outputs": [
        {
          "output_type": "stream",
          "name": "stdout",
          "text": [
            "{'臺北市': 340, '高雄市': 424, '臺中市': 436, '臺南市': 280, '基隆市': 57, '新竹市': 39, '嘉義市': 67, '新北市': 507, '桃園市': 271, '新竹縣': 48, '宜蘭縣': 76, '苗栗縣': 57, '彰化縣': 181, '南投縣': 67, '雲林縣': 131, '嘉義縣': 84, '屏東縣': 140, '澎湖縣': 11, '花蓮縣': 47, '臺東縣': 23, '金門縣': 6, '連江縣': 1}\n"
          ]
        }
      ]
    },
    {
      "cell_type": "markdown",
      "source": [
        "接下來請你計算出每個地區的成人剩餘口罩數量，並且將結果從大到小排列，完成後 Commit 第三個版本："
      ],
      "metadata": {
        "id": "L6WUVyZ2yyyZ"
      }
    },
    {
      "cell_type": "code",
      "source": [
        "mask_count = {}\n",
        "\n",
        "# 填入欄位名稱\n",
        "for d in data['features']:\n",
        "    county = d['properties']['address'][:3]\n",
        "    if county not in mask_count:\n",
        "         mask_count[county] = 0\n",
        "    mask_adult = d['properties']['mask_adult']\n",
        "    mask_count[county] += mask_adult\n",
        "\n",
        "# 將結果從大到小排列\n",
        "mask_count = dict(sorted(mask_count.items(), key=lambda x: x[1], reverse= True))\n",
        "\n",
        "print(mask_count)\n",
        "# {'台北市': 12345, '新北市': 45678 ...}\n"
      ],
      "metadata": {
        "colab": {
          "base_uri": "https://localhost:8080/"
        },
        "id": "Sp34j9Sn-HId",
        "outputId": "25a0913b-5637-4d2e-96f9-c085c865ae2c"
      },
      "execution_count": 3,
      "outputs": [
        {
          "output_type": "stream",
          "name": "stdout",
          "text": [
            "{'新北市': 677660, '臺中市': 556440, '高雄市': 428940, '臺南市': 408400, '桃園市': 345600, '臺北市': 323660, '彰化縣': 219400, '雲林縣': 199470, '屏東縣': 184250, '苗栗縣': 134180, '嘉義縣': 113180, '嘉義市': 107840, '宜蘭縣': 106900, '南投縣': 91240, '基隆市': 80100, '花蓮縣': 57330, '新竹縣': 53760, '新竹市': 45630, '臺東縣': 28510, '金門縣': 15510, '澎湖縣': 12600, '連江縣': 7930}\n"
          ]
        }
      ]
    },
    {
      "cell_type": "markdown",
      "source": [
        "# Task #08 作業#01 【實作題】將資料存入資料庫"
      ],
      "metadata": {
        "id": "Oqx4GKFSy3SP"
      }
    },
    {
      "cell_type": "markdown",
      "source": [
        "將昨天計算的「各地區的藥局數量」存入資料庫的 `pharmacies` 表格，欄位包含「地區」、「數量」、「新增時間」，在同一個 Repo、Colab 編輯完成後再 Commit 紀錄成一個版本："
      ],
      "metadata": {
        "id": "QqkoH81Ay6xI"
      }
    },
    {
      "cell_type": "code",
      "source": [
        "import sqlite3\n",
        "import datetime\n",
        "\n",
        "conn = sqlite3.connect('example.db')\n",
        "c = conn.cursor()\n",
        "\n",
        "# 新增且清空資料表\n",
        "c.execute('''CREATE TABLE IF NOT EXISTS pharmacies\n",
        "             (city text, counts text, createdAt datetime)''')\n",
        "c.execute('''DELETE FROM pharmacies''')\n",
        "conn.commit()\n",
        "\n",
        "#利用前面整理好的資料med_count，放入資料庫\n",
        "data = med_count\n",
        "\n",
        "for d in data:\n",
        "  t = datetime.datetime.now()\n",
        "  city = d\n",
        "  counts = med_count[city]\n",
        "  print(f\"INSERT INTO stocks VALUES ('{city}', {counts}, '{t}')\")\n",
        "  c.execute(\"INSERT INTO pharmacies VALUES (?, ?, ?)\",(city, counts, t))\n",
        "  conn.commit()\n",
        "\n",
        "# 查詢資料\n",
        "c.execute(\"SELECT * FROM pharmacies\")\n",
        "print(c.fetchall())\n",
        "\n",
        "conn.commit()\n",
        "conn.close()"
      ],
      "metadata": {
        "colab": {
          "base_uri": "https://localhost:8080/"
        },
        "id": "lp2vohsdtra5",
        "outputId": "714fc8f4-337d-4eec-87ca-58a1d399b312"
      },
      "execution_count": 35,
      "outputs": [
        {
          "output_type": "stream",
          "name": "stdout",
          "text": [
            "INSERT INTO stocks VALUES ('臺北市', 340, '2023-04-20 05:31:15.640708')\n",
            "INSERT INTO stocks VALUES ('高雄市', 424, '2023-04-20 05:31:15.650161')\n",
            "INSERT INTO stocks VALUES ('臺中市', 436, '2023-04-20 05:31:15.658257')\n",
            "INSERT INTO stocks VALUES ('臺南市', 280, '2023-04-20 05:31:15.667300')\n",
            "INSERT INTO stocks VALUES ('基隆市', 57, '2023-04-20 05:31:15.675316')\n",
            "INSERT INTO stocks VALUES ('新竹市', 39, '2023-04-20 05:31:15.683919')\n",
            "INSERT INTO stocks VALUES ('嘉義市', 67, '2023-04-20 05:31:15.692148')\n",
            "INSERT INTO stocks VALUES ('新北市', 507, '2023-04-20 05:31:15.700725')\n",
            "INSERT INTO stocks VALUES ('桃園市', 271, '2023-04-20 05:31:15.709308')\n",
            "INSERT INTO stocks VALUES ('新竹縣', 48, '2023-04-20 05:31:15.717428')\n",
            "INSERT INTO stocks VALUES ('宜蘭縣', 76, '2023-04-20 05:31:15.726475')\n",
            "INSERT INTO stocks VALUES ('苗栗縣', 57, '2023-04-20 05:31:15.735532')\n",
            "INSERT INTO stocks VALUES ('彰化縣', 181, '2023-04-20 05:31:15.745661')\n",
            "INSERT INTO stocks VALUES ('南投縣', 67, '2023-04-20 05:31:15.754780')\n",
            "INSERT INTO stocks VALUES ('雲林縣', 131, '2023-04-20 05:31:15.763940')\n",
            "INSERT INTO stocks VALUES ('嘉義縣', 84, '2023-04-20 05:31:15.772243')\n",
            "INSERT INTO stocks VALUES ('屏東縣', 140, '2023-04-20 05:31:15.780875')\n",
            "INSERT INTO stocks VALUES ('澎湖縣', 11, '2023-04-20 05:31:15.789687')\n",
            "INSERT INTO stocks VALUES ('花蓮縣', 47, '2023-04-20 05:31:15.797854')\n",
            "INSERT INTO stocks VALUES ('臺東縣', 23, '2023-04-20 05:31:15.806562')\n",
            "INSERT INTO stocks VALUES ('金門縣', 6, '2023-04-20 05:31:15.815027')\n",
            "INSERT INTO stocks VALUES ('連江縣', 1, '2023-04-20 05:31:15.822991')\n",
            "[('臺北市', '340', '2023-04-20 05:31:15.640708'), ('高雄市', '424', '2023-04-20 05:31:15.650161'), ('臺中市', '436', '2023-04-20 05:31:15.658257'), ('臺南市', '280', '2023-04-20 05:31:15.667300'), ('基隆市', '57', '2023-04-20 05:31:15.675316'), ('新竹市', '39', '2023-04-20 05:31:15.683919'), ('嘉義市', '67', '2023-04-20 05:31:15.692148'), ('新北市', '507', '2023-04-20 05:31:15.700725'), ('桃園市', '271', '2023-04-20 05:31:15.709308'), ('新竹縣', '48', '2023-04-20 05:31:15.717428'), ('宜蘭縣', '76', '2023-04-20 05:31:15.726475'), ('苗栗縣', '57', '2023-04-20 05:31:15.735532'), ('彰化縣', '181', '2023-04-20 05:31:15.745661'), ('南投縣', '67', '2023-04-20 05:31:15.754780'), ('雲林縣', '131', '2023-04-20 05:31:15.763940'), ('嘉義縣', '84', '2023-04-20 05:31:15.772243'), ('屏東縣', '140', '2023-04-20 05:31:15.780875'), ('澎湖縣', '11', '2023-04-20 05:31:15.789687'), ('花蓮縣', '47', '2023-04-20 05:31:15.797854'), ('臺東縣', '23', '2023-04-20 05:31:15.806562'), ('金門縣', '6', '2023-04-20 05:31:15.815027'), ('連江縣', '1', '2023-04-20 05:31:15.822991')]\n"
          ]
        }
      ]
    },
    {
      "cell_type": "markdown",
      "source": [
        "接下來請將昨天計算的「各地區的剩餘口罩」存入資料庫的 `masks` 表格，欄位包含「地區」、「剩餘口罩數量」、「新增時間」，在同一個 Repo、Colab 編輯完成後再 Commit 紀錄成一個版本："
      ],
      "metadata": {
        "id": "Kl5NB2isILWb"
      }
    },
    {
      "cell_type": "code",
      "source": [
        "conn = sqlite3.connect('example.db')\n",
        "c = conn.cursor()\n",
        "\n",
        "# 新增且清空資料表\n",
        "c.execute('''CREATE TABLE IF NOT EXISTS masks\n",
        "             (city text, mask_counts text, createAT datetime)''')\n",
        "c.execute('''DELETE FROM masks''')\n",
        "conn.commit()\n",
        "\n",
        "# 新增資料\n",
        "data = mask_count\n",
        "for d in data:\n",
        "  city = d\n",
        "  mask_counts = mask_count[city]\n",
        "  t = datetime.datetime.now()\n",
        "  c.execute(\"INSERT INTO masks VALUES (?, ?, ?)\",(city, mask_counts, t))\n",
        "  conn.commit()\n",
        "\n",
        "# 查詢資料\n",
        "c.execute(\"SELECT * FROM masks\")\n",
        "print(c.fetchall())\n",
        "\n",
        "conn.commit()\n",
        "conn.close()"
      ],
      "metadata": {
        "id": "kkx9dHlxIKp1",
        "outputId": "f4544654-0ee0-44e6-86ac-8c9ed1147106",
        "colab": {
          "base_uri": "https://localhost:8080/"
        }
      },
      "execution_count": 44,
      "outputs": [
        {
          "output_type": "stream",
          "name": "stdout",
          "text": [
            "[('新北市', '677660', '2023-04-20 05:34:40.603087'), ('臺中市', '556440', '2023-04-20 05:34:40.611290'), ('高雄市', '428940', '2023-04-20 05:34:40.619923'), ('臺南市', '408400', '2023-04-20 05:34:40.628161'), ('桃園市', '345600', '2023-04-20 05:34:40.636676'), ('臺北市', '323660', '2023-04-20 05:34:40.644457'), ('彰化縣', '219400', '2023-04-20 05:34:40.652316'), ('雲林縣', '199470', '2023-04-20 05:34:40.660341'), ('屏東縣', '184250', '2023-04-20 05:34:40.668041'), ('苗栗縣', '134180', '2023-04-20 05:34:40.675228'), ('嘉義縣', '113180', '2023-04-20 05:34:40.681666'), ('嘉義市', '107840', '2023-04-20 05:34:40.688482'), ('宜蘭縣', '106900', '2023-04-20 05:34:40.695657'), ('南投縣', '91240', '2023-04-20 05:34:40.702471'), ('基隆市', '80100', '2023-04-20 05:34:40.709450'), ('花蓮縣', '57330', '2023-04-20 05:34:40.716428'), ('新竹縣', '53760', '2023-04-20 05:34:40.723225'), ('新竹市', '45630', '2023-04-20 05:34:40.729824'), ('臺東縣', '28510', '2023-04-20 05:34:40.736586'), ('金門縣', '15510', '2023-04-20 05:34:40.742738'), ('澎湖縣', '12600', '2023-04-20 05:34:40.749484'), ('連江縣', '7930', '2023-04-20 05:34:40.756469')]\n"
          ]
        }
      ]
    }
  ]
}